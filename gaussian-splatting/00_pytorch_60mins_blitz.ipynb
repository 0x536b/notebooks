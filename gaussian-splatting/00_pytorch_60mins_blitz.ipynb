{
 "cells": [
  {
   "cell_type": "code",
   "execution_count": 1,
   "id": "de9d238f-269b-4ea4-97d6-cc715d3c5bf0",
   "metadata": {},
   "outputs": [],
   "source": [
    "import torch\n",
    "import numpy as np"
   ]
  },
  {
   "cell_type": "markdown",
   "id": "b43bd911-fe7e-4192-88c0-eb58ade304ab",
   "metadata": {},
   "source": [
    "## Pytorch basics"
   ]
  },
  {
   "cell_type": "code",
   "execution_count": 41,
   "id": "0da7ae19-b77b-467f-8762-f1c3c5dcc753",
   "metadata": {},
   "outputs": [
    {
     "name": "stdout",
     "output_type": "stream",
     "text": [
      "x_data Tensor: \n",
      " tensor([[1, 2],\n",
      "        [3, 4]]) \n",
      "\n",
      "x_np: \n",
      " tensor([[1, 2],\n",
      "        [3, 4]]) \n",
      "\n",
      "Ones Tensor: \n",
      " tensor([[1, 1],\n",
      "        [1, 1]]) \n",
      "\n",
      "Random Tensor: \n",
      " tensor([[0.0695, 0.2149],\n",
      "        [0.5078, 0.0652]]) \n",
      "\n"
     ]
    }
   ],
   "source": [
    "# from data\n",
    "data = [[1, 2], [3, 4]]\n",
    "x_data = torch.tensor(data)\n",
    "print(f\"x_data Tensor: \\n {x_data} \\n\")\n",
    "\n",
    "# from numpy\n",
    "np_array = np.array(data)\n",
    "x_np = torch.from_numpy(np_array)\n",
    "print(f\"x_np: \\n {x_np} \\n\")\n",
    "\n",
    "# from another tensor\n",
    "x_ones = torch.ones_like(x_data) # retains the properties of x_data\n",
    "print(f\"Ones Tensor: \\n {x_ones} \\n\")\n",
    "\n",
    "x_rand = torch.rand_like(x_data, dtype=torch.float) # overrides the datatype of x_data\n",
    "print(f\"Random Tensor: \\n {x_rand} \\n\")"
   ]
  },
  {
   "cell_type": "code",
   "execution_count": 7,
   "id": "917e021b-8149-4f2c-b5c4-3848ba14f9d9",
   "metadata": {},
   "outputs": [
    {
     "name": "stdout",
     "output_type": "stream",
     "text": [
      "Random Tensor: \n",
      " tensor([[0.2410, 0.8157, 0.4724],\n",
      "        [0.5575, 0.1440, 0.1434]]) \n",
      "\n",
      "Ones Tensor: \n",
      " tensor([[1., 1., 1.],\n",
      "        [1., 1., 1.]]) \n",
      "\n",
      "Zeros Tensor: \n",
      " tensor([[0., 0., 0.],\n",
      "        [0., 0., 0.]])\n"
     ]
    }
   ],
   "source": [
    "# use a tuple to define the shape of a tensor\n",
    "shape = (2, 3,)\n",
    "rand_tensor = torch.rand(shape)\n",
    "ones_tensor = torch.ones(shape)\n",
    "zeros_tensor = torch.zeros(shape)\n",
    "\n",
    "print(f\"Random Tensor: \\n {rand_tensor} \\n\")\n",
    "print(f\"Ones Tensor: \\n {ones_tensor} \\n\")\n",
    "print(f\"Zeros Tensor: \\n {zeros_tensor}\")"
   ]
  },
  {
   "cell_type": "code",
   "execution_count": 8,
   "id": "051ff6f3-d8f1-47b4-a196-b3460b3314a1",
   "metadata": {},
   "outputs": [
    {
     "name": "stdout",
     "output_type": "stream",
     "text": [
      "Shape of tensor: torch.Size([3, 4])\n",
      "Datatype of tensor: torch.float32\n",
      "Device tensor is stored on: cpu\n"
     ]
    }
   ],
   "source": [
    "# tensor attributes\n",
    "tensor = torch.rand(3, 4)\n",
    "\n",
    "print(f\"Shape of tensor: {tensor.shape}\")\n",
    "print(f\"Datatype of tensor: {tensor.dtype}\")\n",
    "print(f\"Device tensor is stored on: {tensor.device}\")"
   ]
  },
  {
   "cell_type": "code",
   "execution_count": 10,
   "id": "caa11e4a-d7d4-43d9-a13b-6c40fe18a864",
   "metadata": {},
   "outputs": [
    {
     "name": "stdout",
     "output_type": "stream",
     "text": [
      "Device tensor is stored on: cuda:0\n"
     ]
    }
   ],
   "source": [
    "# All pytorch operations can be run on GPU\n",
    "# We move our tensor to the GPU if available\n",
    "if torch.cuda.is_available():\n",
    "  tensor = tensor.to('cuda')\n",
    "  print(f\"Device tensor is stored on: {tensor.device}\")"
   ]
  },
  {
   "cell_type": "code",
   "execution_count": 13,
   "id": "3d9e8451-051e-48a4-b46c-003412c0c4e7",
   "metadata": {},
   "outputs": [
    {
     "name": "stdout",
     "output_type": "stream",
     "text": [
      "tensor([[1., 0., 1., 1.],\n",
      "        [1., 0., 1., 1.],\n",
      "        [1., 0., 1., 1.],\n",
      "        [1., 0., 1., 1.]])\n",
      "tensor([[1., 0., 1., 1., 1., 0., 1., 1., 1., 0., 1., 1.],\n",
      "        [1., 0., 1., 1., 1., 0., 1., 1., 1., 0., 1., 1.],\n",
      "        [1., 0., 1., 1., 1., 0., 1., 1., 1., 0., 1., 1.],\n",
      "        [1., 0., 1., 1., 1., 0., 1., 1., 1., 0., 1., 1.]])\n"
     ]
    }
   ],
   "source": [
    "# pytorch uses std numpy-like indexing and slicing\n",
    "tensor = torch.ones(4, 4)\n",
    "tensor[:,1] = 0\n",
    "print(tensor)\n",
    "\n",
    "#use cat to join tensors\n",
    "t1 = torch.cat([tensor, tensor, tensor], dim=1)\n",
    "print(t1)"
   ]
  },
  {
   "cell_type": "code",
   "execution_count": 38,
   "id": "aba9f730-1cfb-4af5-9dca-c312ccfbccbb",
   "metadata": {},
   "outputs": [
    {
     "name": "stdout",
     "output_type": "stream",
     "text": [
      "Ist Tensor: \n",
      " tensor([[1., 0., 1., 1.],\n",
      "        [1., 0., 1., 1.],\n",
      "        [1., 0., 1., 1.],\n",
      "        [1., 0., 1., 1.]]) \n",
      "\n",
      "Random Tensor: \n",
      " tensor([[0.3044, 0.1995, 0.8691, 0.8257],\n",
      "        [0.0824, 0.9024, 0.3202, 0.9782],\n",
      "        [0.0137, 0.9792, 0.2827, 0.3385],\n",
      "        [0.6817, 0.5757, 0.3672, 0.5324]]) \n",
      "\n",
      "tensor.mul(tensor2) \n",
      " tensor([[0.3044, 0.0000, 0.8691, 0.8257],\n",
      "        [0.0824, 0.0000, 0.3202, 0.9782],\n",
      "        [0.0137, 0.0000, 0.2827, 0.3385],\n",
      "        [0.6817, 0.0000, 0.3672, 0.5324]]) \n",
      "\n",
      "tensor * tensor \n",
      " tensor([[1., 0., 1., 1.],\n",
      "        [1., 0., 1., 1.],\n",
      "        [1., 0., 1., 1.],\n",
      "        [1., 0., 1., 1.]]) \n",
      "\n",
      "tensor.matmul(tensor) \n",
      " tensor([[3., 0., 3., 3.],\n",
      "        [3., 0., 3., 3.],\n",
      "        [3., 0., 3., 3.],\n",
      "        [3., 0., 3., 3.]]) \n",
      "\n",
      "Ist Tensor Transpose: \n",
      " tensor([[1., 1., 1., 1.],\n",
      "        [0., 0., 0., 0.],\n",
      "        [1., 1., 1., 1.],\n",
      "        [1., 1., 1., 1.]]) \n",
      "\n",
      "tensor.matmul(tensor.T) \n",
      " tensor([[3., 3., 3., 3.],\n",
      "        [3., 3., 3., 3.],\n",
      "        [3., 3., 3., 3.],\n",
      "        [3., 3., 3., 3.]]) \n",
      "\n",
      "tensor @ tensor.T \n",
      " tensor([[3., 3., 3., 3.],\n",
      "        [3., 3., 3., 3.],\n",
      "        [3., 3., 3., 3.],\n",
      "        [3., 3., 3., 3.]])\n"
     ]
    }
   ],
   "source": [
    "# multiply\n",
    "tensor = torch.ones(4, 4)\n",
    "tensor[:,1] = 0\n",
    "print(f\"Ist Tensor: \\n {tensor} \\n\")\n",
    "tensor2 = torch.rand(4,4)\n",
    "print(f\"Random Tensor: \\n {tensor2} \\n\")\n",
    "\n",
    "# This computes the element-wise product. Give attention to this detail - its \"elementwise\"\n",
    "print(f\"tensor.mul(tensor2) \\n {tensor.mul(tensor2)} \\n\")\n",
    "# Alternative syntax:\n",
    "print(f\"tensor * tensor \\n {tensor * tensor} \\n\")\n",
    "\n",
    "# MatMul\n",
    "print(f\"tensor.matmul(tensor) \\n {tensor.matmul(tensor)} \\n\")\n",
    "print(f\"Ist Tensor Transpose: \\n {tensor.T} \\n\")\n",
    "print(f\"tensor.matmul(tensor.T) \\n {tensor.matmul(tensor.T)} \\n\")\n",
    "# Alternative syntax:\n",
    "print(f\"tensor @ tensor.T \\n {tensor @ tensor.T}\")"
   ]
  },
  {
   "cell_type": "code",
   "execution_count": 40,
   "id": "5e097b39-267b-48e1-b11a-1329a83612eb",
   "metadata": {},
   "outputs": [
    {
     "name": "stdout",
     "output_type": "stream",
     "text": [
      "tensor([[6., 5., 6., 6.],\n",
      "        [6., 5., 6., 6.],\n",
      "        [6., 5., 6., 6.],\n",
      "        [6., 5., 6., 6.]]) \n",
      "\n",
      "tensor([[11., 10., 11., 11.],\n",
      "        [11., 10., 11., 11.],\n",
      "        [11., 10., 11., 11.],\n",
      "        [11., 10., 11., 11.]])\n"
     ]
    }
   ],
   "source": [
    "# ops with \"_\" at the end are in-place ops\n",
    "print(tensor, \"\\n\")\n",
    "tensor.add_(5)\n",
    "print(tensor)\n",
    "\n",
    "# In-place operations save some memory, \n",
    "# but can be problematic when computing derivatives because of an immediate loss of history. \n",
    "# Hence, their use is discouraged."
   ]
  },
  {
   "cell_type": "code",
   "execution_count": 51,
   "id": "3a77f485-1a45-4fd2-a3e8-1cf52a78b254",
   "metadata": {},
   "outputs": [
    {
     "name": "stdout",
     "output_type": "stream",
     "text": [
      "t: tensor([1., 1., 1., 1., 1.])\n",
      "n: [1. 1. 1. 1. 1.]\n",
      "\n",
      "t: tensor([2., 2., 2., 2., 2.]), torch.float32\n",
      "n: [2. 2. 2. 2. 2.], float32\n"
     ]
    }
   ],
   "source": [
    "# Tensors on the CPU and NumPy arrays can share their underlying memory locations, \n",
    "# and changing one will change the other.\n",
    "t = torch.ones(5)\n",
    "print(f\"t: {t}\")\n",
    "n = t.numpy()\n",
    "print(f\"n: {n}\")\n",
    "\n",
    "# A change in the tensor reflects in the NumPy array.\n",
    "t.add_(1)\n",
    "print(f\"\\nt: {t}, {t.dtype}\")\n",
    "print(f\"n: {n}, {n.dtype}\")"
   ]
  },
  {
   "cell_type": "code",
   "execution_count": 48,
   "id": "345d59f4-f25b-46e8-84a5-2af5457b0990",
   "metadata": {},
   "outputs": [
    {
     "name": "stdout",
     "output_type": "stream",
     "text": [
      "t: tensor([2., 2., 2., 2., 2.], dtype=torch.float64)\n",
      "n: [2. 2. 2. 2. 2.], float64\n"
     ]
    }
   ],
   "source": [
    "# numpy to tensor\n",
    "n = np.ones(5)\n",
    "t = torch.from_numpy(n)\n",
    "\n",
    "# change in numpy array reflects in tensor\n",
    "np.add(n, 1, out=n)\n",
    "print(f\"t: {t}\")\n",
    "print(f\"n: {n}, {n.dtype}\")"
   ]
  },
  {
   "cell_type": "markdown",
   "id": "680cc4eb-0eef-400b-b963-75f00335831c",
   "metadata": {},
   "source": [
    "## Pytorch autograd tutorial"
   ]
  },
  {
   "cell_type": "code",
   "execution_count": 52,
   "id": "6af7bd17-723d-428e-90e3-7fc43411f83b",
   "metadata": {},
   "outputs": [
    {
     "name": "stderr",
     "output_type": "stream",
     "text": [
      "Downloading: \"https://download.pytorch.org/models/resnet18-f37072fd.pth\" to /home/suresh/.cache/torch/hub/checkpoints/resnet18-f37072fd.pth\n",
      "100%|███████████████████████████████████████████████████████████████████████████████████████████████████████████████████████████████████████████████████████████████████████████| 44.7M/44.7M [00:00<00:00, 116MB/s]\n"
     ]
    }
   ],
   "source": [
    "import torch\n",
    "from torchvision.models import resnet18, ResNet18_Weights\n",
    "b\n",
    "model = resnet18(weights=ResNet18_Weights.DEFAULT)\n",
    "data = torch.rand(1, 3, 64, 64)\n",
    "labels = torch.rand(1, 1000)"
   ]
  },
  {
   "cell_type": "code",
   "execution_count": 53,
   "id": "20219e11-a108-4331-9e03-9c3364089b37",
   "metadata": {},
   "outputs": [],
   "source": [
    "# input to the model\n",
    "prediction = model(data) # forward pass"
   ]
  },
  {
   "cell_type": "code",
   "execution_count": 54,
   "id": "3a6359f5-2ddb-42e8-8bc6-fe79c5fd2d17",
   "metadata": {},
   "outputs": [],
   "source": [
    "# Use to model's prediction to calculate the loss\n",
    "loss = (prediction - labels).sum()\n",
    "loss.backward() # backward pass"
   ]
  },
  {
   "cell_type": "code",
   "execution_count": 55,
   "id": "55f6cbff-dd32-44f3-ae9b-e71ffdf12bd4",
   "metadata": {},
   "outputs": [],
   "source": [
    "# Call the optimizer\n",
    "optim = torch.optim.SGD(model.parameters(), lr=1e-2, momentum=0.9)\n",
    "\n",
    "# Initiate gradient descent\n",
    "optim.step() #gradient descent"
   ]
  },
  {
   "cell_type": "code",
   "execution_count": 62,
   "id": "bab77b04-4e63-4069-a564-f434a4ba6b57",
   "metadata": {},
   "outputs": [],
   "source": [
    "# Differentiation in Autograd\n",
    "\n",
    "# create a two variable\n",
    "a = torch.tensor([2., 3.], requires_grad=True)\n",
    "b = torch.tensor([6., 4.], requires_grad=True)\n",
    "# requires_grad is to tell the autograd to track all changes in that tensor\n",
    "\n",
    "# Lets define a random equation Q = 3a^2 - b^2. Let this be your error function/equation\n",
    "Q = 3*a**3 - b**2\n",
    "# Calling backward on Q will calculate the gradients. See below"
   ]
  },
  {
   "attachments": {
    "e802194b-81d8-4496-b8dd-e9b12c2a9cb7.png": {
     "image/png": "[encoded data removed]"
    }
   },
   "cell_type": "markdown",
   "id": "6bc9971f-db97-4180-9c9f-1804e7f47f8e",
   "metadata": {},
   "source": [
    "![image.png](attachment:e802194b-81d8-4496-b8dd-e9b12c2a9cb7.png)"
   ]
  },
  {
   "cell_type": "code",
   "execution_count": 63,
   "id": "3cb4da37-aa3c-491c-8b50-f8602958dc68",
   "metadata": {},
   "outputs": [
    {
     "name": "stdout",
     "output_type": "stream",
     "text": [
      "a: tensor([2., 3.], requires_grad=True)\n"
     ]
    }
   ],
   "source": [
    "external_grad = torch.tensor([1., 1.])\n",
    "Q.backward(gradient=external_grad)"
   ]
  },
  {
   "cell_type": "code",
   "execution_count": 64,
   "id": "28cb99d0-bf1e-4bb8-a44c-cb3fde913e6d",
   "metadata": {},
   "outputs": [
    {
     "name": "stdout",
     "output_type": "stream",
     "text": [
      "a grad: tensor([36., 81.])\n"
     ]
    }
   ],
   "source": [
    "print(f\"a grad: {a.grad}\")"
   ]
  },
  {
   "cell_type": "code",
   "execution_count": 59,
   "id": "ef4d26d8-4d2e-4d39-9078-c14108adceda",
   "metadata": {},
   "outputs": [
    {
     "name": "stdout",
     "output_type": "stream",
     "text": [
      "tensor([True, True])\n",
      "tensor([True, True])\n"
     ]
    }
   ],
   "source": [
    "# check if collected gradients are correct\n",
    "print(9*a**2 == a.grad)\n",
    "print(-2*b == b.grad)"
   ]
  },
  {
   "cell_type": "code",
   "execution_count": 65,
   "id": "31110a93-2c0d-45df-9d9e-44cfab5443ac",
   "metadata": {},
   "outputs": [
    {
     "name": "stdout",
     "output_type": "stream",
     "text": [
      "Does `a` require gradients? : False\n",
      "Does `b` require gradients?: True\n"
     ]
    }
   ],
   "source": [
    "x = torch.rand(5, 5)\n",
    "y = torch.rand(5, 5)\n",
    "z = torch.rand((5, 5), requires_grad=True)\n",
    "\n",
    "a = x + y\n",
    "print(f\"Does `a` require gradients? : {a.requires_grad}\")\n",
    "b = x + z\n",
    "print(f\"Does `b` require gradients?: {b.requires_grad}\")"
   ]
  }
 ],
 "metadata": {
  "kernelspec": {
   "display_name": "GaussianEnv",
   "language": "python",
   "name": "24_gs"
  },
  "language_info": {
   "codemirror_mode": {
    "name": "ipython",
    "version": 3
   },
   "file_extension": ".py",
   "mimetype": "text/x-python",
   "name": "python",
   "nbconvert_exporter": "python",
   "pygments_lexer": "ipython3",
   "version": "3.8.18"
  }
 },
 "nbformat": 4,
 "nbformat_minor": 5
}
